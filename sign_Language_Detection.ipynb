{
  "cells": [
    {
      "cell_type": "markdown",
      "metadata": {
        "id": "view-in-github",
        "colab_type": "text"
      },
      "source": [
        "<a href=\"https://colab.research.google.com/github/SyedAfzalHussain/Sign-Language-Detection-Model/blob/master/sign_Language_Detection.ipynb\" target=\"_parent\"><img src=\"https://colab.research.google.com/assets/colab-badge.svg\" alt=\"Open In Colab\"/></a>"
      ]
    },
    {
      "cell_type": "markdown",
      "metadata": {
        "_cell_guid": "07062a19-3f08-499f-a5a7-d6f34cdf125e",
        "_uuid": "faa859a5-6753-490d-986a-1589884d988f",
        "papermill": {
          "duration": 0.030637,
          "end_time": "2023-03-31T00:46:22.953438",
          "exception": false,
          "start_time": "2023-03-31T00:46:22.922801",
          "status": "completed"
        },
        "tags": [],
        "id": "AjWrc9su20mc"
      },
      "source": [
        "<h2><center>American Sign Language Detection</center></h2>"
      ]
    },
    {
      "cell_type": "markdown",
      "metadata": {
        "_cell_guid": "e0fffe98-758d-4319-bd66-6f207729a630",
        "_uuid": "c0d7c1be-58ba-4ff6-a111-25c9c31e0eda",
        "papermill": {
          "duration": 0.029162,
          "end_time": "2023-03-31T00:46:23.012157",
          "exception": false,
          "start_time": "2023-03-31T00:46:22.982995",
          "status": "completed"
        },
        "tags": [],
        "id": "Opc6ZWcs20mh"
      },
      "source": [
        "### 1. Importing packages <a id=1></a>"
      ]
    },
    {
      "cell_type": "code",
      "execution_count": null,
      "metadata": {
        "_cell_guid": "1e37fef9-7f9f-4b06-a8de-3f367d649045",
        "_kg_hide-input": true,
        "_uuid": "d20235e4-152b-489d-a746-cc67a4003510",
        "execution": {
          "iopub.execute_input": "2023-03-31T00:46:23.079551Z",
          "iopub.status.busy": "2023-03-31T00:46:23.078676Z",
          "iopub.status.idle": "2023-03-31T00:46:30.987393Z",
          "shell.execute_reply": "2023-03-31T00:46:30.986044Z",
          "shell.execute_reply.started": "2023-03-30T18:22:03.431809Z"
        },
        "jupyter": {
          "outputs_hidden": false
        },
        "papermill": {
          "duration": 7.94632,
          "end_time": "2023-03-31T00:46:30.987633",
          "exception": false,
          "start_time": "2023-03-31T00:46:23.041313",
          "status": "completed"
        },
        "tags": [],
        "colab": {
          "base_uri": "https://localhost:8080/"
        },
        "id": "rP3eddre20mj",
        "outputId": "7c584a8a-7bec-4eca-fcd6-173fa15337f0"
      },
      "outputs": [
        {
          "output_type": "stream",
          "name": "stdout",
          "text": [
            "Packages imported...\n"
          ]
        }
      ],
      "source": [
        "# import data processing and visualisation libraries\n",
        "import numpy as np\n",
        "import pandas as pd\n",
        "import seaborn as sns\n",
        "import matplotlib.pyplot as plt\n",
        "%matplotlib inline\n",
        "\n",
        "# import image processing libraries\n",
        "import cv2\n",
        "import skimage\n",
        "from skimage.transform import resize\n",
        "\n",
        "# import tensorflow and keras\n",
        "import tensorflow as tf\n",
        "from tensorflow import keras\n",
        "import os\n",
        "\n",
        "print(\"Packages imported...\")"
      ]
    },
    {
      "cell_type": "markdown",
      "metadata": {
        "_cell_guid": "b3a465c1-760b-48fa-a281-b51d5ef510aa",
        "_uuid": "05e0a0aa-da07-4dff-a4d7-66ca13fa80b1",
        "papermill": {
          "duration": 0.029039,
          "end_time": "2023-03-31T00:46:31.047755",
          "exception": false,
          "start_time": "2023-03-31T00:46:31.018716",
          "status": "completed"
        },
        "tags": [],
        "id": "DTplVLfj20mm"
      },
      "source": [
        "### 2. Importing the dataset from training directory <a id=2></a>"
      ]
    },
    {
      "cell_type": "code",
      "execution_count": null,
      "metadata": {
        "_cell_guid": "2265d143-13e7-43d9-b72d-18eb4b42ac2e",
        "_kg_hide-input": true,
        "_uuid": "0fab0f82-e179-4781-ad9d-973fed3ae070",
        "execution": {
          "iopub.execute_input": "2023-03-31T00:46:31.132162Z",
          "iopub.status.busy": "2023-03-31T00:46:31.131244Z",
          "iopub.status.idle": "2023-03-31T01:03:40.319182Z",
          "shell.execute_reply": "2023-03-31T01:03:40.319775Z",
          "shell.execute_reply.started": "2023-03-30T18:22:04.740051Z"
        },
        "jupyter": {
          "outputs_hidden": false
        },
        "papermill": {
          "duration": 1029.242372,
          "end_time": "2023-03-31T01:03:40.319971",
          "exception": false,
          "start_time": "2023-03-31T00:46:31.077599",
          "status": "completed"
        },
        "tags": [],
        "id": "7hVUdEGW20mn"
      },
      "outputs": [],
      "source": [
        "batch_size = 64\n",
        "imageSize = 64\n",
        "target_dims = (imageSize, imageSize, 3)\n",
        "num_classes = 29\n",
        "\n",
        "train_len = 87000\n",
        "train_dir = './asl_alphabet_train/asl_alphabet_train/'\n",
        "\n",
        "def get_data(folder):\n",
        "    X = np.empty((train_len, imageSize, imageSize, 3), dtype=np.float32)\n",
        "    y = np.empty((train_len,), dtype=np.int32)\n",
        "    cnt = 0\n",
        "    for folderName in os.listdir(folder):\n",
        "        if not folderName.startswith('.'):\n",
        "            if folderName in ['A']:\n",
        "                label = 0\n",
        "            elif folderName in ['B']:\n",
        "                label = 1\n",
        "            elif folderName in ['C']:\n",
        "                label = 2\n",
        "            elif folderName in ['D']:\n",
        "                label = 3\n",
        "            elif folderName in ['E']:\n",
        "                label = 4\n",
        "            elif folderName in ['F']:\n",
        "                label = 5\n",
        "            elif folderName in ['G']:\n",
        "                label = 6\n",
        "            elif folderName in ['H']:\n",
        "                label = 7\n",
        "            elif folderName in ['I']:\n",
        "                label = 8\n",
        "            elif folderName in ['J']:\n",
        "                label = 9\n",
        "            elif folderName in ['K']:\n",
        "                label = 10\n",
        "            elif folderName in ['L']:\n",
        "                label = 11\n",
        "            elif folderName in ['M']:\n",
        "                label = 12\n",
        "            elif folderName in ['N']:\n",
        "                label = 13\n",
        "            elif folderName in ['O']:\n",
        "                label = 14\n",
        "            elif folderName in ['P']:\n",
        "                label = 15\n",
        "            elif folderName in ['Q']:\n",
        "                label = 16\n",
        "            elif folderName in ['R']:\n",
        "                label = 17\n",
        "            elif folderName in ['S']:\n",
        "                label = 18\n",
        "            elif folderName in ['T']:\n",
        "                label = 19\n",
        "            elif folderName in ['U']:\n",
        "                label = 20\n",
        "            elif folderName in ['V']:\n",
        "                label = 21\n",
        "            elif folderName in ['W']:\n",
        "                label = 22\n",
        "            elif folderName in ['X']:\n",
        "                label = 23\n",
        "            elif folderName in ['Y']:\n",
        "                label = 24\n",
        "            elif folderName in ['Z']:\n",
        "                label = 25\n",
        "            elif folderName in ['del']:\n",
        "                label = 26\n",
        "            elif folderName in ['nothing']:\n",
        "                label = 27\n",
        "            elif folderName in ['space']:\n",
        "                label = 28\n",
        "            else:\n",
        "                label = 29\n",
        "            for image_filename in os.listdir(folder + folderName):\n",
        "                img_file = cv2.imread(folder + folderName + '/' + image_filename)\n",
        "                if img_file is not None:\n",
        "                    img_file = skimage.transform.resize(img_file, (imageSize, imageSize, 3))\n",
        "                    img_arr = np.asarray(img_file).reshape((-1, imageSize, imageSize, 3))\n",
        "\n",
        "                    X[cnt] = img_arr\n",
        "                    y[cnt] = label\n",
        "                    cnt += 1\n",
        "    return X,y\n",
        "X_train, y_train = get_data(train_dir)\n",
        "print(\"Images successfully imported...\")"
      ]
    },
    {
      "cell_type": "markdown",
      "metadata": {
        "papermill": {
          "duration": 0.031767,
          "end_time": "2023-03-31T01:03:40.382480",
          "exception": false,
          "start_time": "2023-03-31T01:03:40.350713",
          "status": "completed"
        },
        "tags": [],
        "id": "mnqytUS-20mo"
      },
      "source": [
        "#### 2.1 Checking the shape of data <a id=3></a>"
      ]
    },
    {
      "cell_type": "code",
      "execution_count": null,
      "metadata": {
        "_cell_guid": "067c2ef4-496b-4a67-bf5a-cc7a139ab7bd",
        "_kg_hide-input": true,
        "_uuid": "a5add51b-31da-4c0e-b1ff-573184900634",
        "execution": {
          "iopub.execute_input": "2023-03-31T01:03:40.448519Z",
          "iopub.status.busy": "2023-03-31T01:03:40.447769Z",
          "iopub.status.idle": "2023-03-31T01:03:40.450568Z",
          "shell.execute_reply": "2023-03-31T01:03:40.451091Z",
          "shell.execute_reply.started": "2023-03-30T18:37:02.870767Z"
        },
        "jupyter": {
          "outputs_hidden": false
        },
        "papermill": {
          "duration": 0.038863,
          "end_time": "2023-03-31T01:03:40.451246",
          "exception": false,
          "start_time": "2023-03-31T01:03:40.412383",
          "status": "completed"
        },
        "tags": [],
        "id": "wlZCg2D720mp",
        "outputId": "e901e925-8f4f-4bbc-87a9-af53afcd8c8c"
      },
      "outputs": [
        {
          "name": "stdout",
          "output_type": "stream",
          "text": [
            "The shape of X_train is :  (87000, 64, 64, 3)\n",
            "The shape of y_train is :  (87000,)\n"
          ]
        }
      ],
      "source": [
        "print(\"The shape of X_train is : \", X_train.shape)\n",
        "print(\"The shape of y_train is : \", y_train.shape)"
      ]
    },
    {
      "cell_type": "markdown",
      "metadata": {
        "papermill": {
          "duration": 0.030151,
          "end_time": "2023-03-31T01:03:40.511554",
          "exception": false,
          "start_time": "2023-03-31T01:03:40.481403",
          "status": "completed"
        },
        "tags": [],
        "id": "pwLeStfy20mq"
      },
      "source": [
        "#### 2.2 Checking the shape of one image <a id=4></a>"
      ]
    },
    {
      "cell_type": "code",
      "execution_count": null,
      "metadata": {
        "_cell_guid": "900696c7-8be7-4337-a43f-16ccd81340f9",
        "_kg_hide-input": true,
        "_uuid": "d26a695b-50e9-48ba-b70d-46bd2eb2a6f6",
        "execution": {
          "iopub.execute_input": "2023-03-31T01:03:40.578508Z",
          "iopub.status.busy": "2023-03-31T01:03:40.577491Z",
          "iopub.status.idle": "2023-03-31T01:03:40.581125Z",
          "shell.execute_reply": "2023-03-31T01:03:40.581668Z",
          "shell.execute_reply.started": "2023-03-30T18:37:07.694344Z"
        },
        "jupyter": {
          "outputs_hidden": false
        },
        "papermill": {
          "duration": 0.039625,
          "end_time": "2023-03-31T01:03:40.581823",
          "exception": false,
          "start_time": "2023-03-31T01:03:40.542198",
          "status": "completed"
        },
        "tags": [],
        "id": "XR-ZSHAJ20mr",
        "outputId": "721416d9-c7c4-40c1-cba1-991562b682f0"
      },
      "outputs": [
        {
          "name": "stdout",
          "output_type": "stream",
          "text": [
            "The shape of one image is :  (64, 64, 3)\n"
          ]
        }
      ],
      "source": [
        "print(\"The shape of one image is : \", X_train[0].shape)"
      ]
    },
    {
      "cell_type": "markdown",
      "metadata": {
        "papermill": {
          "duration": 0.031983,
          "end_time": "2023-03-31T01:03:40.645466",
          "exception": false,
          "start_time": "2023-03-31T01:03:40.613483",
          "status": "completed"
        },
        "tags": [],
        "id": "9Vuf-YfJ20ms"
      },
      "source": [
        "#### 2.3 Viewing the image <a id=5></a>"
      ]
    },
    {
      "cell_type": "code",
      "execution_count": null,
      "metadata": {
        "_cell_guid": "07904f67-f959-4785-a2a9-d26da5737f73",
        "_kg_hide-input": true,
        "_uuid": "47fc5cad-9dc5-4d85-81e4-063e6e0a084f",
        "execution": {
          "iopub.execute_input": "2023-03-31T01:03:40.725841Z",
          "iopub.status.busy": "2023-03-31T01:03:40.724555Z",
          "iopub.status.idle": "2023-03-31T01:03:40.908780Z",
          "shell.execute_reply": "2023-03-31T01:03:40.908088Z",
          "shell.execute_reply.started": "2023-03-30T18:37:12.960471Z"
        },
        "jupyter": {
          "outputs_hidden": false
        },
        "papermill": {
          "duration": 0.231637,
          "end_time": "2023-03-31T01:03:40.908906",
          "exception": false,
          "start_time": "2023-03-31T01:03:40.677269",
          "status": "completed"
        },
        "tags": [],
        "id": "lxDWuB5C20mt",
        "outputId": "3d880ebc-f6db-4200-a166-e3a950940010"
      },
      "outputs": [
        {
          "data": {
            "image/png": "[encoded data removed]",
            "text/plain": [
              "<Figure size 640x480 with 1 Axes>"
            ]
          },
          "metadata": {},
          "output_type": "display_data"
        }
      ],
      "source": [
        "plt.imshow(X_train[0])\n",
        "plt.show()"
      ]
    },
    {
      "cell_type": "markdown",
      "metadata": {
        "papermill": {
          "duration": 0.031784,
          "end_time": "2023-03-31T01:03:40.972161",
          "exception": false,
          "start_time": "2023-03-31T01:03:40.940377",
          "status": "completed"
        },
        "tags": [],
        "id": "o-q5GIMy20mu"
      },
      "source": [
        "##### 2.3.1 Making copies of original data"
      ]
    },
    {
      "cell_type": "code",
      "execution_count": null,
      "metadata": {
        "_cell_guid": "565a6756-d740-4ebe-ab3a-edd5d10d89cf",
        "_kg_hide-input": true,
        "_uuid": "1a129c25-b487-4d64-bb95-ce34367497d6",
        "execution": {
          "iopub.execute_input": "2023-03-31T01:03:41.040267Z",
          "iopub.status.busy": "2023-03-31T01:03:41.039551Z",
          "iopub.status.idle": "2023-03-31T01:03:41.043657Z",
          "shell.execute_reply": "2023-03-31T01:03:41.042949Z",
          "shell.execute_reply.started": "2023-03-30T18:37:16.197284Z"
        },
        "jupyter": {
          "outputs_hidden": false
        },
        "papermill": {
          "duration": 0.040278,
          "end_time": "2023-03-31T01:03:41.043781",
          "exception": false,
          "start_time": "2023-03-31T01:03:41.003503",
          "status": "completed"
        },
        "tags": [],
        "id": "Wcpl147B20mv",
        "outputId": "6b4f3388-38bd-4d9e-addc-3bc4d24448f1"
      },
      "outputs": [
        {
          "name": "stdout",
          "output_type": "stream",
          "text": [
            "Copies made...\n"
          ]
        }
      ],
      "source": [
        "X_data = X_train\n",
        "y_data = y_train\n",
        "print(\"Copies made...\")"
      ]
    },
    {
      "cell_type": "markdown",
      "metadata": {
        "_cell_guid": "37d05451-8836-41ff-865f-cdc9ea9567b0",
        "_uuid": "7b6c425c-49f0-4617-bda4-cf848cb75f14",
        "papermill": {
          "duration": 0.031804,
          "end_time": "2023-03-31T01:03:41.107090",
          "exception": false,
          "start_time": "2023-03-31T01:03:41.075286",
          "status": "completed"
        },
        "tags": [],
        "id": "YlmHgDJN20mw"
      },
      "source": [
        "### 3. Data processing <a id=6></a>"
      ]
    },
    {
      "cell_type": "markdown",
      "metadata": {
        "papermill": {
          "duration": 0.031325,
          "end_time": "2023-03-31T01:03:41.169882",
          "exception": false,
          "start_time": "2023-03-31T01:03:41.138557",
          "status": "completed"
        },
        "tags": [],
        "id": "PMzHFwH720mx"
      },
      "source": [
        "#### 3.1 Train/test split <a id=7></a>"
      ]
    },
    {
      "cell_type": "code",
      "execution_count": null,
      "metadata": {
        "_cell_guid": "f834b860-92b6-49ca-8fc0-f3a3f20d7456",
        "_kg_hide-input": true,
        "_uuid": "100112bd-a136-4fb9-bb03-ef07020a294f",
        "execution": {
          "iopub.execute_input": "2023-03-31T01:03:41.238964Z",
          "iopub.status.busy": "2023-03-31T01:03:41.238325Z",
          "iopub.status.idle": "2023-03-31T01:03:43.301090Z",
          "shell.execute_reply": "2023-03-31T01:03:43.301598Z",
          "shell.execute_reply.started": "2023-03-30T18:37:22.038002Z"
        },
        "jupyter": {
          "outputs_hidden": false
        },
        "papermill": {
          "duration": 2.099802,
          "end_time": "2023-03-31T01:03:43.301770",
          "exception": false,
          "start_time": "2023-03-31T01:03:41.201968",
          "status": "completed"
        },
        "tags": [],
        "id": "NWMtQYkZ20mx"
      },
      "outputs": [],
      "source": [
        "from sklearn.model_selection import train_test_split\n",
        "\n",
        "X_train, X_test, y_train, y_test = train_test_split(X_data, y_data, test_size=0.3,random_state=42,stratify=y_data)"
      ]
    },
    {
      "cell_type": "markdown",
      "metadata": {
        "papermill": {
          "duration": 0.031533,
          "end_time": "2023-03-31T01:03:43.365106",
          "exception": false,
          "start_time": "2023-03-31T01:03:43.333573",
          "status": "completed"
        },
        "tags": [],
        "id": "Xfh2bsYr20my"
      },
      "source": [
        "#### 3.2 One-Hot-Encoding <a id=8></a>"
      ]
    },
    {
      "cell_type": "code",
      "execution_count": null,
      "metadata": {
        "_cell_guid": "9257b00c-3b27-4e54-967d-903b7e52e65f",
        "_kg_hide-input": true,
        "_uuid": "df3ce29e-d4a1-41cc-a980-a1fdddbb83b8",
        "execution": {
          "iopub.execute_input": "2023-03-31T01:03:43.433549Z",
          "iopub.status.busy": "2023-03-31T01:03:43.432865Z",
          "iopub.status.idle": "2023-03-31T01:03:43.446681Z",
          "shell.execute_reply": "2023-03-31T01:03:43.447259Z",
          "shell.execute_reply.started": "2023-03-30T18:37:29.993051Z"
        },
        "jupyter": {
          "outputs_hidden": false
        },
        "papermill": {
          "duration": 0.049054,
          "end_time": "2023-03-31T01:03:43.447429",
          "exception": false,
          "start_time": "2023-03-31T01:03:43.398375",
          "status": "completed"
        },
        "tags": [],
        "id": "0h1O_7uF20mz"
      },
      "outputs": [],
      "source": [
        "# One-Hot-Encoding the categorical data\n",
        "from tensorflow.keras.utils import to_categorical\n",
        "y_cat_train = to_categorical(y_train,29)\n",
        "y_cat_test = to_categorical(y_test,29)"
      ]
    },
    {
      "cell_type": "markdown",
      "metadata": {
        "papermill": {
          "duration": 0.031111,
          "end_time": "2023-03-31T01:03:43.511171",
          "exception": false,
          "start_time": "2023-03-31T01:03:43.480060",
          "status": "completed"
        },
        "tags": [],
        "id": "nYlZII-920m0"
      },
      "source": [
        "#### 3.3 Dimension Check of variables <a id=9></a>"
      ]
    },
    {
      "cell_type": "code",
      "execution_count": null,
      "metadata": {
        "_cell_guid": "dae48de7-8e50-4c4e-a297-d8e3c09741da",
        "_kg_hide-input": true,
        "_uuid": "e9f8c8b8-df33-48f5-92a4-1e4d9a5393c4",
        "execution": {
          "iopub.execute_input": "2023-03-31T01:03:43.577570Z",
          "iopub.status.busy": "2023-03-31T01:03:43.576835Z",
          "iopub.status.idle": "2023-03-31T01:03:43.584607Z",
          "shell.execute_reply": "2023-03-31T01:03:43.583896Z",
          "shell.execute_reply.started": "2023-03-30T18:37:31.087745Z"
        },
        "jupyter": {
          "outputs_hidden": false
        },
        "papermill": {
          "duration": 0.042104,
          "end_time": "2023-03-31T01:03:43.584738",
          "exception": false,
          "start_time": "2023-03-31T01:03:43.542634",
          "status": "completed"
        },
        "tags": [],
        "id": "VEg21rWY20m0",
        "outputId": "1e9b97f5-a8a4-4f2b-d87a-22146f7a1fb7"
      },
      "outputs": [
        {
          "name": "stdout",
          "output_type": "stream",
          "text": [
            "(60900, 64, 64, 3)\n",
            "(60900,)\n",
            "(26100, 64, 64, 3)\n",
            "(26100,)\n",
            "(60900, 29)\n",
            "(26100, 29)\n"
          ]
        }
      ],
      "source": [
        "# Checking the dimensions of all the variables\n",
        "print(X_train.shape)\n",
        "print(y_train.shape)\n",
        "print(X_test.shape)\n",
        "print(y_test.shape)\n",
        "print(y_cat_train.shape)\n",
        "print(y_cat_test.shape)"
      ]
    },
    {
      "cell_type": "markdown",
      "metadata": {
        "_cell_guid": "5ea40005-f9c4-45d8-b5fc-62efbbc7552f",
        "_uuid": "e2310305-968c-4304-98c0-0fa6f948f7ed",
        "papermill": {
          "duration": 0.033742,
          "end_time": "2023-03-31T01:03:43.650488",
          "exception": false,
          "start_time": "2023-03-31T01:03:43.616746",
          "status": "completed"
        },
        "tags": [],
        "id": "O9lFJpt920m1"
      },
      "source": [
        "### 4. Garbage Collection <a id=10></a>"
      ]
    },
    {
      "cell_type": "code",
      "execution_count": null,
      "metadata": {
        "_cell_guid": "60b60e7c-5ad2-4200-b77b-d780c19a63c8",
        "_kg_hide-input": true,
        "_uuid": "0d1a9c60-97e0-4d93-96a2-8414ebe5a77b",
        "execution": {
          "iopub.execute_input": "2023-03-31T01:03:43.718712Z",
          "iopub.status.busy": "2023-03-31T01:03:43.718065Z",
          "iopub.status.idle": "2023-03-31T01:03:43.882160Z",
          "shell.execute_reply": "2023-03-31T01:03:43.882768Z",
          "shell.execute_reply.started": "2023-03-30T18:37:32.354233Z"
        },
        "jupyter": {
          "outputs_hidden": false
        },
        "papermill": {
          "duration": 0.199189,
          "end_time": "2023-03-31T01:03:43.882921",
          "exception": false,
          "start_time": "2023-03-31T01:03:43.683732",
          "status": "completed"
        },
        "tags": [],
        "id": "N4R4XaBu20m2",
        "outputId": "6a88024c-1af1-454f-9f3c-8c2ce43b7897"
      },
      "outputs": [
        {
          "data": {
            "text/plain": [
              "0"
            ]
          },
          "execution_count": 11,
          "metadata": {},
          "output_type": "execute_result"
        }
      ],
      "source": [
        "# This is done to save CPU and RAM space while working on Kaggle Kernels. This will delete the specified data and save some space!\n",
        "import gc\n",
        "del X_data\n",
        "del y_data\n",
        "gc.collect()"
      ]
    },
    {
      "cell_type": "markdown",
      "metadata": {
        "_cell_guid": "d6ccd7c2-0204-438f-adf9-5a43f02a9978",
        "_uuid": "260a1235-958e-4446-a8c1-49ba2e8edda3",
        "papermill": {
          "duration": 0.031663,
          "end_time": "2023-03-31T01:03:43.946629",
          "exception": false,
          "start_time": "2023-03-31T01:03:43.914966",
          "status": "completed"
        },
        "tags": [],
        "id": "2kwi6czI20m3"
      },
      "source": [
        "### 5. Modeling <a id=11></a>"
      ]
    },
    {
      "cell_type": "markdown",
      "metadata": {
        "papermill": {
          "duration": 0.031502,
          "end_time": "2023-03-31T01:03:44.010152",
          "exception": false,
          "start_time": "2023-03-31T01:03:43.978650",
          "status": "completed"
        },
        "tags": [],
        "id": "q3ThNSfe20m4"
      },
      "source": [
        "#### 5.1 Importing packages <a id=12></a>"
      ]
    },
    {
      "cell_type": "code",
      "execution_count": null,
      "metadata": {
        "_cell_guid": "600cfa51-bec1-496f-ac4d-fe9cb700c03d",
        "_kg_hide-input": true,
        "_uuid": "6900c3dd-09dc-4f84-bbc4-2515d2d6c193",
        "execution": {
          "iopub.execute_input": "2023-03-31T01:03:44.079134Z",
          "iopub.status.busy": "2023-03-31T01:03:44.078486Z",
          "iopub.status.idle": "2023-03-31T01:03:44.136753Z",
          "shell.execute_reply": "2023-03-31T01:03:44.137243Z",
          "shell.execute_reply.started": "2023-03-30T18:37:35.031294Z"
        },
        "jupyter": {
          "outputs_hidden": false
        },
        "papermill": {
          "duration": 0.095176,
          "end_time": "2023-03-31T01:03:44.137404",
          "exception": false,
          "start_time": "2023-03-31T01:03:44.042228",
          "status": "completed"
        },
        "tags": [],
        "id": "AmxRP7o720m4",
        "outputId": "02a31e0e-9196-4134-aaf5-93f36e86fb56"
      },
      "outputs": [
        {
          "name": "stdout",
          "output_type": "stream",
          "text": [
            "Packages imported...\n"
          ]
        }
      ],
      "source": [
        "from keras.models import Sequential\n",
        "from keras.layers import Conv2D, MaxPooling2D, Activation, Dense, Flatten\n",
        "print(\"Packages imported...\")"
      ]
    },
    {
      "cell_type": "markdown",
      "metadata": {
        "papermill": {
          "duration": 0.03203,
          "end_time": "2023-03-31T01:03:44.202014",
          "exception": false,
          "start_time": "2023-03-31T01:03:44.169984",
          "status": "completed"
        },
        "tags": [],
        "id": "xjMkRfxB20m6"
      },
      "source": [
        "#### 5.2 Building model <a id=13></a>"
      ]
    },
    {
      "cell_type": "code",
      "execution_count": null,
      "metadata": {
        "_cell_guid": "17f3751b-4927-483b-9d60-effe1ee70cf1",
        "_kg_hide-input": true,
        "_uuid": "43bd378a-609f-4de1-a1ad-b1d169351098",
        "execution": {
          "iopub.execute_input": "2023-03-31T01:03:44.276444Z",
          "iopub.status.busy": "2023-03-31T01:03:44.275713Z",
          "iopub.status.idle": "2023-03-31T01:03:44.453867Z",
          "shell.execute_reply": "2023-03-31T01:03:44.452568Z",
          "shell.execute_reply.started": "2023-03-30T18:37:36.109289Z"
        },
        "jupyter": {
          "outputs_hidden": false
        },
        "papermill": {
          "duration": 0.219745,
          "end_time": "2023-03-31T01:03:44.454140",
          "exception": false,
          "start_time": "2023-03-31T01:03:44.234395",
          "status": "completed"
        },
        "tags": [],
        "id": "7r16ePvV20m-",
        "outputId": "6c143252-58d3-4cbd-d7e3-76322a180be5"
      },
      "outputs": [
        {
          "name": "stdout",
          "output_type": "stream",
          "text": [
            "Model: \"sequential\"\n",
            "_________________________________________________________________\n",
            " Layer (type)                Output Shape              Param #   \n",
            "=================================================================\n",
            " conv2d (Conv2D)             (None, 60, 60, 32)        2432      \n",
            "                                                                 \n",
            " activation (Activation)     (None, 60, 60, 32)        0         \n",
            "                                                                 \n",
            " max_pooling2d (MaxPooling2  (None, 30, 30, 32)        0         \n",
            " D)                                                              \n",
            "                                                                 \n",
            " conv2d_1 (Conv2D)           (None, 28, 28, 64)        18496     \n",
            "                                                                 \n",
            " activation_1 (Activation)   (None, 28, 28, 64)        0         \n",
            "                                                                 \n",
            " max_pooling2d_1 (MaxPoolin  (None, 14, 14, 64)        0         \n",
            " g2D)                                                            \n",
            "                                                                 \n",
            " conv2d_2 (Conv2D)           (None, 12, 12, 64)        36928     \n",
            "                                                                 \n",
            " activation_2 (Activation)   (None, 12, 12, 64)        0         \n",
            "                                                                 \n",
            " max_pooling2d_2 (MaxPoolin  (None, 6, 6, 64)          0         \n",
            " g2D)                                                            \n",
            "                                                                 \n",
            " flatten (Flatten)           (None, 2304)              0         \n",
            "                                                                 \n",
            " dense (Dense)               (None, 128)               295040    \n",
            "                                                                 \n",
            " dense_1 (Dense)             (None, 29)                3741      \n",
            "                                                                 \n",
            "=================================================================\n",
            "Total params: 356637 (1.36 MB)\n",
            "Trainable params: 356637 (1.36 MB)\n",
            "Non-trainable params: 0 (0.00 Byte)\n",
            "_________________________________________________________________\n"
          ]
        }
      ],
      "source": [
        "model = Sequential()\n",
        "\n",
        "model.add(Conv2D(32, (5, 5), input_shape=(64, 64, 3)))\n",
        "model.add(Activation('relu'))\n",
        "model.add(MaxPooling2D((2, 2)))\n",
        "\n",
        "model.add(Conv2D(64, (3, 3)))\n",
        "model.add(Activation('relu'))\n",
        "model.add(MaxPooling2D((2, 2)))\n",
        "\n",
        "model.add(Conv2D(64, (3, 3)))\n",
        "model.add(Activation('relu'))\n",
        "model.add(MaxPooling2D((2, 2)))\n",
        "\n",
        "model.add(Flatten())\n",
        "\n",
        "model.add(Dense(128, activation='relu'))\n",
        "\n",
        "model.add(Dense(29, activation='softmax'))\n",
        "\n",
        "model.summary()"
      ]
    },
    {
      "cell_type": "markdown",
      "metadata": {
        "papermill": {
          "duration": 0.03312,
          "end_time": "2023-03-31T01:03:44.521080",
          "exception": false,
          "start_time": "2023-03-31T01:03:44.487960",
          "status": "completed"
        },
        "tags": [],
        "id": "du19YdVN20m_"
      },
      "source": [
        "#### 5.3 Early Stopping and Compiling <a id=14></a>"
      ]
    },
    {
      "cell_type": "markdown",
      "metadata": {
        "papermill": {
          "duration": 0.03256,
          "end_time": "2023-03-31T01:03:44.586527",
          "exception": false,
          "start_time": "2023-03-31T01:03:44.553967",
          "status": "completed"
        },
        "tags": [],
        "id": "YrNR2fwh20nA"
      },
      "source": [
        "##### 5.3.1 Early Stopping"
      ]
    },
    {
      "cell_type": "markdown",
      "metadata": {
        "papermill": {
          "duration": 0.034114,
          "end_time": "2023-03-31T01:03:44.653494",
          "exception": false,
          "start_time": "2023-03-31T01:03:44.619380",
          "status": "completed"
        },
        "tags": [],
        "id": "UhLfifSP20nA"
      },
      "source": [
        "Early Stopping is done to make sure the model fitting stops at the most optimized accuracy point. After the early stopping point, the model might start overfitting. For testing purposes, this step can be skipped and complete training can be done."
      ]
    },
    {
      "cell_type": "code",
      "execution_count": null,
      "metadata": {
        "_cell_guid": "166bc66e-a184-4685-8bab-07a4fd82b5c5",
        "_kg_hide-input": true,
        "_uuid": "e48b5f93-6c7b-4cfa-af41-0ef7f449b51e",
        "execution": {
          "iopub.execute_input": "2023-03-31T01:03:44.722701Z",
          "iopub.status.busy": "2023-03-31T01:03:44.721987Z",
          "iopub.status.idle": "2023-03-31T01:03:44.726128Z",
          "shell.execute_reply": "2023-03-31T01:03:44.727154Z",
          "shell.execute_reply.started": "2023-03-30T18:37:38.293060Z"
        },
        "jupyter": {
          "outputs_hidden": false
        },
        "papermill": {
          "duration": 0.040969,
          "end_time": "2023-03-31T01:03:44.727374",
          "exception": false,
          "start_time": "2023-03-31T01:03:44.686405",
          "status": "completed"
        },
        "tags": [],
        "id": "yFHjusJ420nB"
      },
      "outputs": [],
      "source": [
        "from tensorflow.keras.callbacks import EarlyStopping\n",
        "early_stop = EarlyStopping(monitor='val_loss',patience=2)"
      ]
    },
    {
      "cell_type": "markdown",
      "metadata": {
        "papermill": {
          "duration": 0.03266,
          "end_time": "2023-03-31T01:03:44.795811",
          "exception": false,
          "start_time": "2023-03-31T01:03:44.763151",
          "status": "completed"
        },
        "tags": [],
        "id": "NQt0R3AN20nB"
      },
      "source": [
        "##### 5.3.2 Compiling"
      ]
    },
    {
      "cell_type": "code",
      "execution_count": null,
      "metadata": {
        "_cell_guid": "207189e1-ee1b-466d-b032-c0e24c10d942",
        "_kg_hide-input": true,
        "_uuid": "45f4dafb-d26a-4c14-896a-cde3dff1212a",
        "execution": {
          "iopub.execute_input": "2023-03-31T01:03:44.870622Z",
          "iopub.status.busy": "2023-03-31T01:03:44.869852Z",
          "iopub.status.idle": "2023-03-31T01:03:44.878609Z",
          "shell.execute_reply": "2023-03-31T01:03:44.878074Z",
          "shell.execute_reply.started": "2023-03-30T18:37:40.486990Z"
        },
        "jupyter": {
          "outputs_hidden": false
        },
        "papermill": {
          "duration": 0.050177,
          "end_time": "2023-03-31T01:03:44.878738",
          "exception": false,
          "start_time": "2023-03-31T01:03:44.828561",
          "status": "completed"
        },
        "tags": [],
        "id": "saya-Kmd20nC"
      },
      "outputs": [],
      "source": [
        "model.compile(optimizer='adam',\n",
        "              loss='categorical_crossentropy',\n",
        "              metrics=['accuracy'])"
      ]
    },
    {
      "cell_type": "markdown",
      "metadata": {
        "_cell_guid": "e8138e59-3c44-4575-ab15-c2f9a605e8ae",
        "_uuid": "9cad5ad2-3087-4237-8354-32633dab6b1d",
        "papermill": {
          "duration": 0.032681,
          "end_time": "2023-03-31T01:03:44.945623",
          "exception": false,
          "start_time": "2023-03-31T01:03:44.912942",
          "status": "completed"
        },
        "tags": [],
        "id": "3dn0Vy8F20nD"
      },
      "source": [
        "#### 5.4 Model fitting <a id=15></a>"
      ]
    },
    {
      "cell_type": "code",
      "execution_count": null,
      "metadata": {
        "_cell_guid": "821c522f-11c6-45e9-aae9-b0f85167f8be",
        "_kg_hide-input": true,
        "_uuid": "1a1d6a1a-a207-41af-920b-044f27265cfa",
        "execution": {
          "iopub.execute_input": "2023-03-31T01:03:45.015305Z",
          "iopub.status.busy": "2023-03-31T01:03:45.014572Z",
          "iopub.status.idle": "2023-03-31T01:57:32.148349Z",
          "shell.execute_reply": "2023-03-31T01:57:32.147774Z",
          "shell.execute_reply.started": "2023-03-30T18:37:41.441829Z"
        },
        "jupyter": {
          "outputs_hidden": false
        },
        "papermill": {
          "duration": 3227.169971,
          "end_time": "2023-03-31T01:57:32.148484",
          "exception": false,
          "start_time": "2023-03-31T01:03:44.978513",
          "status": "completed"
        },
        "tags": [],
        "id": "DggZIQKw20nD",
        "outputId": "a23e1d41-2ba9-48c5-912b-1646a7099938"
      },
      "outputs": [
        {
          "name": "stdout",
          "output_type": "stream",
          "text": [
            "Epoch 1/10\n",
            "952/952 - 158s - loss: 1.0994 - accuracy: 0.6722 - val_loss: 0.2758 - val_accuracy: 0.9113 - 158s/epoch - 166ms/step\n",
            "Epoch 2/10\n",
            "952/952 - 158s - loss: 0.1477 - accuracy: 0.9529 - val_loss: 0.0918 - val_accuracy: 0.9694 - 158s/epoch - 166ms/step\n",
            "Epoch 3/10\n",
            "952/952 - 153s - loss: 0.0656 - accuracy: 0.9793 - val_loss: 0.0612 - val_accuracy: 0.9782 - 153s/epoch - 161ms/step\n",
            "Epoch 4/10\n",
            "952/952 - 150s - loss: 0.0457 - accuracy: 0.9856 - val_loss: 0.0429 - val_accuracy: 0.9859 - 150s/epoch - 158ms/step\n",
            "Epoch 5/10\n",
            "952/952 - 151s - loss: 0.0511 - accuracy: 0.9846 - val_loss: 0.0280 - val_accuracy: 0.9915 - 151s/epoch - 158ms/step\n",
            "Epoch 6/10\n",
            "952/952 - 153s - loss: 0.0265 - accuracy: 0.9920 - val_loss: 0.0910 - val_accuracy: 0.9696 - 153s/epoch - 160ms/step\n",
            "Epoch 7/10\n",
            "952/952 - 155s - loss: 0.0262 - accuracy: 0.9923 - val_loss: 0.0209 - val_accuracy: 0.9936 - 155s/epoch - 163ms/step\n",
            "Epoch 8/10\n",
            "952/952 - 160s - loss: 0.0272 - accuracy: 0.9919 - val_loss: 0.0318 - val_accuracy: 0.9898 - 160s/epoch - 168ms/step\n",
            "Epoch 9/10\n",
            "952/952 - 206s - loss: 0.0256 - accuracy: 0.9922 - val_loss: 0.0199 - val_accuracy: 0.9932 - 206s/epoch - 216ms/step\n",
            "Epoch 10/10\n",
            "952/952 - 157s - loss: 0.0204 - accuracy: 0.9942 - val_loss: 0.0294 - val_accuracy: 0.9909 - 157s/epoch - 165ms/step\n"
          ]
        },
        {
          "data": {
            "text/plain": [
              "<keras.src.callbacks.History at 0x180af79c3a0>"
            ]
          },
          "execution_count": 16,
          "metadata": {},
          "output_type": "execute_result"
        }
      ],
      "source": [
        "model.fit(X_train, y_cat_train,\n",
        "          epochs=10,\n",
        "          batch_size=64,\n",
        "          verbose=2,\n",
        "          validation_data=(X_test, y_cat_test),\n",
        "         callbacks=[early_stop])"
      ]
    },
    {
      "cell_type": "markdown",
      "metadata": {
        "_cell_guid": "2c72fb78-8a46-4faf-ab4b-339b65c8b9dd",
        "_uuid": "8ebe106b-4eeb-44ca-9afb-9c91d02962b2",
        "papermill": {
          "duration": 0.040991,
          "end_time": "2023-03-31T01:57:32.230643",
          "exception": false,
          "start_time": "2023-03-31T01:57:32.189652",
          "status": "completed"
        },
        "tags": [],
        "id": "ePFlJlqW20nE"
      },
      "source": [
        "#### 5.5 Model metrics <a id=16></a>"
      ]
    },
    {
      "cell_type": "markdown",
      "metadata": {
        "papermill": {
          "duration": 0.041025,
          "end_time": "2023-03-31T01:57:32.312827",
          "exception": false,
          "start_time": "2023-03-31T01:57:32.271802",
          "status": "completed"
        },
        "tags": [],
        "id": "U4rnmD2o20nF"
      },
      "source": [
        "##### 5.5.1 Metrics from model history"
      ]
    },
    {
      "cell_type": "code",
      "execution_count": null,
      "metadata": {
        "_cell_guid": "74862d05-feff-4e9c-b634-77b5a2daa8c6",
        "_kg_hide-input": true,
        "_uuid": "e1e23093-cca8-4e14-875f-2a7e2fd88f2c",
        "execution": {
          "iopub.execute_input": "2023-03-31T01:57:32.399386Z",
          "iopub.status.busy": "2023-03-31T01:57:32.398328Z",
          "iopub.status.idle": "2023-03-31T01:57:32.537533Z",
          "shell.execute_reply": "2023-03-31T01:57:32.536820Z",
          "shell.execute_reply.started": "2023-03-30T19:24:44.050219Z"
        },
        "jupyter": {
          "outputs_hidden": false
        },
        "papermill": {
          "duration": 0.183552,
          "end_time": "2023-03-31T01:57:32.537660",
          "exception": false,
          "start_time": "2023-03-31T01:57:32.354108",
          "status": "completed"
        },
        "tags": [],
        "id": "qXCtbC0V20nG",
        "outputId": "25ba5ae3-d174-4fe1-de4a-a095dc3d1abe"
      },
      "outputs": [
        {
          "name": "stdout",
          "output_type": "stream",
          "text": [
            "The model metrics are\n"
          ]
        },
        {
          "data": {
            "text/html": [
              "<div>\n",
              "<style scoped>\n",
              "    .dataframe tbody tr th:only-of-type {\n",
              "        vertical-align: middle;\n",
              "    }\n",
              "\n",
              "    .dataframe tbody tr th {\n",
              "        vertical-align: top;\n",
              "    }\n",
              "\n",
              "    .dataframe thead th {\n",
              "        text-align: right;\n",
              "    }\n",
              "</style>\n",
              "<table border=\"1\" class=\"dataframe\">\n",
              "  <thead>\n",
              "    <tr style=\"text-align: right;\">\n",
              "      <th></th>\n",
              "      <th>loss</th>\n",
              "      <th>accuracy</th>\n",
              "      <th>val_loss</th>\n",
              "      <th>val_accuracy</th>\n",
              "    </tr>\n",
              "  </thead>\n",
              "  <tbody>\n",
              "    <tr>\n",
              "      <th>0</th>\n",
              "      <td>1.099385</td>\n",
              "      <td>0.672151</td>\n",
              "      <td>0.275794</td>\n",
              "      <td>0.911341</td>\n",
              "    </tr>\n",
              "    <tr>\n",
              "      <th>1</th>\n",
              "      <td>0.147650</td>\n",
              "      <td>0.952906</td>\n",
              "      <td>0.091777</td>\n",
              "      <td>0.969387</td>\n",
              "    </tr>\n",
              "    <tr>\n",
              "      <th>2</th>\n",
              "      <td>0.065646</td>\n",
              "      <td>0.979294</td>\n",
              "      <td>0.061221</td>\n",
              "      <td>0.978199</td>\n",
              "    </tr>\n",
              "    <tr>\n",
              "      <th>3</th>\n",
              "      <td>0.045706</td>\n",
              "      <td>0.985649</td>\n",
              "      <td>0.042873</td>\n",
              "      <td>0.985862</td>\n",
              "    </tr>\n",
              "    <tr>\n",
              "      <th>4</th>\n",
              "      <td>0.051056</td>\n",
              "      <td>0.984581</td>\n",
              "      <td>0.028030</td>\n",
              "      <td>0.991533</td>\n",
              "    </tr>\n",
              "    <tr>\n",
              "      <th>5</th>\n",
              "      <td>0.026533</td>\n",
              "      <td>0.992020</td>\n",
              "      <td>0.090953</td>\n",
              "      <td>0.969617</td>\n",
              "    </tr>\n",
              "    <tr>\n",
              "      <th>6</th>\n",
              "      <td>0.026164</td>\n",
              "      <td>0.992332</td>\n",
              "      <td>0.020924</td>\n",
              "      <td>0.993563</td>\n",
              "    </tr>\n",
              "    <tr>\n",
              "      <th>7</th>\n",
              "      <td>0.027215</td>\n",
              "      <td>0.991872</td>\n",
              "      <td>0.031759</td>\n",
              "      <td>0.989847</td>\n",
              "    </tr>\n",
              "    <tr>\n",
              "      <th>8</th>\n",
              "      <td>0.025642</td>\n",
              "      <td>0.992250</td>\n",
              "      <td>0.019852</td>\n",
              "      <td>0.993218</td>\n",
              "    </tr>\n",
              "    <tr>\n",
              "      <th>9</th>\n",
              "      <td>0.020429</td>\n",
              "      <td>0.994154</td>\n",
              "      <td>0.029443</td>\n",
              "      <td>0.990920</td>\n",
              "    </tr>\n",
              "  </tbody>\n",
              "</table>\n",
              "</div>"
            ],
            "text/plain": [
              "       loss  accuracy  val_loss  val_accuracy\n",
              "0  1.099385  0.672151  0.275794      0.911341\n",
              "1  0.147650  0.952906  0.091777      0.969387\n",
              "2  0.065646  0.979294  0.061221      0.978199\n",
              "3  0.045706  0.985649  0.042873      0.985862\n",
              "4  0.051056  0.984581  0.028030      0.991533\n",
              "5  0.026533  0.992020  0.090953      0.969617\n",
              "6  0.026164  0.992332  0.020924      0.993563\n",
              "7  0.027215  0.991872  0.031759      0.989847\n",
              "8  0.025642  0.992250  0.019852      0.993218\n",
              "9  0.020429  0.994154  0.029443      0.990920"
            ]
          },
          "execution_count": 17,
          "metadata": {},
          "output_type": "execute_result"
        }
      ],
      "source": [
        "metrics = pd.DataFrame(model.history.history)\n",
        "print(\"The model metrics are\")\n",
        "metrics"
      ]
    },
    {
      "cell_type": "markdown",
      "metadata": {
        "papermill": {
          "duration": 0.042662,
          "end_time": "2023-03-31T01:57:32.623792",
          "exception": false,
          "start_time": "2023-03-31T01:57:32.581130",
          "status": "completed"
        },
        "tags": [],
        "id": "Q8IigF2Q20nH"
      },
      "source": [
        "##### 5.5.2 Plotting the training loss"
      ]
    },
    {
      "cell_type": "code",
      "execution_count": null,
      "metadata": {
        "_cell_guid": "de0a1bf2-1bd7-4cb3-a63a-3b3fb85618e3",
        "_kg_hide-input": true,
        "_uuid": "6ab8f14a-faa4-446f-9fc9-afc2778ce699",
        "execution": {
          "iopub.execute_input": "2023-03-31T01:57:32.715234Z",
          "iopub.status.busy": "2023-03-31T01:57:32.714488Z",
          "iopub.status.idle": "2023-03-31T01:57:32.897952Z",
          "shell.execute_reply": "2023-03-31T01:57:32.897203Z",
          "shell.execute_reply.started": "2023-03-30T19:24:58.748020Z"
        },
        "jupyter": {
          "outputs_hidden": false
        },
        "papermill": {
          "duration": 0.231852,
          "end_time": "2023-03-31T01:57:32.898095",
          "exception": false,
          "start_time": "2023-03-31T01:57:32.666243",
          "status": "completed"
        },
        "tags": [],
        "id": "gEq7ebo120ne",
        "outputId": "a3622f3a-e7bb-43c2-ff8c-9b77ad9f31d6"
      },
      "outputs": [
        {
          "data": {
            "image/png": "[encoded data removed]",
            "text/plain": [
              "<Figure size 640x480 with 1 Axes>"
            ]
          },
          "metadata": {},
          "output_type": "display_data"
        }
      ],
      "source": [
        "metrics[['loss','val_loss']].plot()\n",
        "plt.show()"
      ]
    },
    {
      "cell_type": "markdown",
      "metadata": {
        "papermill": {
          "duration": 0.04426,
          "end_time": "2023-03-31T01:57:32.986731",
          "exception": false,
          "start_time": "2023-03-31T01:57:32.942471",
          "status": "completed"
        },
        "tags": [],
        "id": "f6PV24KU20ne"
      },
      "source": [
        "##### 5.5.3 Plotting the testing loss"
      ]
    },
    {
      "cell_type": "code",
      "execution_count": null,
      "metadata": {
        "_cell_guid": "9209698c-13bb-4ae9-a309-79771ac5354d",
        "_kg_hide-input": true,
        "_uuid": "97d6cb1a-10ec-4849-a1b2-f0551b704b4c",
        "execution": {
          "iopub.execute_input": "2023-03-31T01:57:33.082252Z",
          "iopub.status.busy": "2023-03-31T01:57:33.081528Z",
          "iopub.status.idle": "2023-03-31T01:57:33.246178Z",
          "shell.execute_reply": "2023-03-31T01:57:33.246674Z",
          "shell.execute_reply.started": "2023-03-30T19:25:01.574992Z"
        },
        "jupyter": {
          "outputs_hidden": false
        },
        "papermill": {
          "duration": 0.217126,
          "end_time": "2023-03-31T01:57:33.246857",
          "exception": false,
          "start_time": "2023-03-31T01:57:33.029731",
          "status": "completed"
        },
        "tags": [],
        "id": "aL_CCa0T20nf",
        "outputId": "5b0eb866-299f-47ac-d80b-860d286a389c"
      },
      "outputs": [
        {
          "data": {
            "image/png": "[encoded data removed]",
            "text/plain": [
              "<Figure size 640x480 with 1 Axes>"
            ]
          },
          "metadata": {},
          "output_type": "display_data"
        }
      ],
      "source": [
        "metrics[['accuracy','val_accuracy']].plot()\n",
        "plt.show()"
      ]
    },
    {
      "cell_type": "markdown",
      "metadata": {
        "papermill": {
          "duration": 0.043264,
          "end_time": "2023-03-31T01:57:33.334164",
          "exception": false,
          "start_time": "2023-03-31T01:57:33.290900",
          "status": "completed"
        },
        "tags": [],
        "id": "-ublJpNl20ng"
      },
      "source": [
        "##### 5.5.4 Model evaluation"
      ]
    },
    {
      "cell_type": "code",
      "execution_count": null,
      "metadata": {
        "_cell_guid": "716cf381-329b-499d-901b-f035117ccc13",
        "_kg_hide-input": true,
        "_uuid": "828a8b42-c224-488e-8e38-34b5d98e2ae7",
        "execution": {
          "iopub.execute_input": "2023-03-31T01:57:33.424524Z",
          "iopub.status.busy": "2023-03-31T01:57:33.423818Z",
          "iopub.status.idle": "2023-03-31T01:57:57.243352Z",
          "shell.execute_reply": "2023-03-31T01:57:57.242600Z",
          "shell.execute_reply.started": "2023-03-30T19:25:23.273198Z"
        },
        "jupyter": {
          "outputs_hidden": false
        },
        "papermill": {
          "duration": 23.865992,
          "end_time": "2023-03-31T01:57:57.243494",
          "exception": false,
          "start_time": "2023-03-31T01:57:33.377502",
          "status": "completed"
        },
        "tags": [],
        "id": "WzAey-lA20ng",
        "outputId": "115daee0-92ea-49b3-b8fb-4ac47574faeb"
      },
      "outputs": [
        {
          "data": {
            "text/plain": [
              "[0.0294429250061512, 0.9909195303916931]"
            ]
          },
          "execution_count": 20,
          "metadata": {},
          "output_type": "execute_result"
        }
      ],
      "source": [
        "model.evaluate(X_test,y_cat_test,verbose=0)"
      ]
    },
    {
      "cell_type": "markdown",
      "metadata": {
        "papermill": {
          "duration": 0.044098,
          "end_time": "2023-03-31T01:57:57.332629",
          "exception": false,
          "start_time": "2023-03-31T01:57:57.288531",
          "status": "completed"
        },
        "tags": [],
        "id": "07dYYLwX20nh"
      },
      "source": [
        "#### 5.6 Predictions <a id=17></a>"
      ]
    },
    {
      "cell_type": "code",
      "execution_count": null,
      "metadata": {
        "_cell_guid": "d2d154b6-4555-4fee-a172-d23850b90d99",
        "_kg_hide-input": true,
        "_uuid": "f7df04f7-8d68-4adf-9909-fb2dc722447f",
        "execution": {
          "iopub.execute_input": "2023-03-31T01:57:58.791332Z",
          "iopub.status.busy": "2023-03-31T01:57:58.790599Z",
          "iopub.status.idle": "2023-03-31T01:58:21.074595Z",
          "shell.execute_reply": "2023-03-31T01:58:21.075424Z",
          "shell.execute_reply.started": "2023-03-30T19:27:27.147790Z"
        },
        "jupyter": {
          "outputs_hidden": false
        },
        "papermill": {
          "duration": 23.698797,
          "end_time": "2023-03-31T01:58:21.075673",
          "exception": false,
          "start_time": "2023-03-31T01:57:57.376876",
          "status": "completed"
        },
        "tags": [],
        "id": "mivnPobN20nh"
      },
      "outputs": [],
      "source": [
        "predictions = model.predict_classes(X_test)\n",
        "print(\"Predictions done...\")"
      ]
    },
    {
      "cell_type": "markdown",
      "metadata": {
        "papermill": {
          "duration": 0.047572,
          "end_time": "2023-03-31T01:58:21.180177",
          "exception": false,
          "start_time": "2023-03-31T01:58:21.132605",
          "status": "completed"
        },
        "tags": [],
        "id": "5TALCS_q20ni"
      },
      "source": [
        "##### 5.6.1 Classification report"
      ]
    },
    {
      "cell_type": "code",
      "execution_count": null,
      "metadata": {
        "_cell_guid": "ce15c91a-6167-4c26-8c20-4ce024b9550e",
        "_kg_hide-input": true,
        "_uuid": "3422a44a-c7a6-4142-9bd5-2602ad158b43",
        "execution": {
          "iopub.execute_input": "2023-03-31T01:58:21.281367Z",
          "iopub.status.busy": "2023-03-31T01:58:21.280676Z",
          "iopub.status.idle": "2023-03-31T01:58:21.368350Z",
          "shell.execute_reply": "2023-03-31T01:58:21.369140Z",
          "shell.execute_reply.started": "2023-03-30T19:27:52.401977Z"
        },
        "jupyter": {
          "outputs_hidden": false
        },
        "papermill": {
          "duration": 0.138156,
          "end_time": "2023-03-31T01:58:21.369392",
          "exception": false,
          "start_time": "2023-03-31T01:58:21.231236",
          "status": "completed"
        },
        "tags": [],
        "id": "QZnQGgNo20nj"
      },
      "outputs": [],
      "source": [
        "from sklearn.metrics import classification_report, confusion_matrix\n",
        "print(classification_report(y_test,predictions))"
      ]
    },
    {
      "cell_type": "markdown",
      "metadata": {
        "papermill": {
          "duration": 0.052869,
          "end_time": "2023-03-31T01:58:21.474722",
          "exception": false,
          "start_time": "2023-03-31T01:58:21.421853",
          "status": "completed"
        },
        "tags": [],
        "id": "FzRMJ8fC20nk"
      },
      "source": [
        "##### 5.6.2 Confusion matrix heatmap"
      ]
    },
    {
      "cell_type": "code",
      "execution_count": null,
      "metadata": {
        "_cell_guid": "82ddeca2-22ce-4dce-9649-62e172593c4d",
        "_kg_hide-input": true,
        "_uuid": "16da6316-14ee-4ea6-9c8a-e5c7dd4947b8",
        "execution": {
          "iopub.execute_input": "2023-03-31T01:58:21.568614Z",
          "iopub.status.busy": "2023-03-31T01:58:21.567578Z",
          "iopub.status.idle": "2023-03-31T01:58:22.282608Z",
          "shell.execute_reply": "2023-03-31T01:58:22.283310Z",
          "shell.execute_reply.started": "2023-03-30T19:27:56.643445Z"
        },
        "jupyter": {
          "outputs_hidden": false
        },
        "papermill": {
          "duration": 0.76376,
          "end_time": "2023-03-31T01:58:22.283472",
          "exception": false,
          "start_time": "2023-03-31T01:58:21.519712",
          "status": "completed"
        },
        "tags": [],
        "id": "7O7VK7cS20nk",
        "outputId": "4f0e83ba-6c89-4702-b871-dbd34c5b6412"
      },
      "outputs": [
        {
          "data": {
            "image/png": "[encoded data removed]",
            "text/plain": [
              "<Figure size 864x864 with 2 Axes>"
            ]
          },
          "metadata": {
            "needs_background": "light"
          },
          "output_type": "display_data"
        }
      ],
      "source": [
        "plt.figure(figsize=(12,12))\n",
        "sns.heatmap(confusion_matrix(y_test,predictions))\n",
        "plt.show()"
      ]
    },
    {
      "cell_type": "markdown",
      "metadata": {
        "_cell_guid": "3b9c82a3-3f9e-4942-ba84-4ab45a9d7c28",
        "_uuid": "3e4bb569-e8a8-46bd-b454-324c9a438472",
        "papermill": {
          "duration": 0.045339,
          "end_time": "2023-03-31T01:58:22.374276",
          "exception": false,
          "start_time": "2023-03-31T01:58:22.328937",
          "status": "completed"
        },
        "tags": [],
        "id": "8BEhCygY20nl"
      },
      "source": [
        "#### 5.7 Saving the model <a id=18></a>"
      ]
    },
    {
      "cell_type": "code",
      "execution_count": null,
      "metadata": {
        "id": "VE_zB7aG20nm"
      },
      "outputs": [],
      "source": [
        "tf.keras.models.save_model(model,'./asl_alphabet_model.h5')\n",
        "print(\"Model saved...\")"
      ]
    }
  ],
  "metadata": {
    "kernelspec": {
      "display_name": "Python 3",
      "language": "python",
      "name": "python3"
    },
    "language_info": {
      "codemirror_mode": {
        "name": "ipython",
        "version": 3
      },
      "file_extension": ".py",
      "mimetype": "text/x-python",
      "name": "python",
      "nbconvert_exporter": "python",
      "pygments_lexer": "ipython3",
      "version": "3.10.11"
    },
    "papermill": {
      "duration": 4325.431924,
      "end_time": "2023-03-31T01:58:23.829602",
      "environment_variables": {},
      "exception": null,
      "input_path": "__notebook__.ipynb",
      "output_path": "__notebook__.ipynb",
      "parameters": {},
      "start_time": "2023-03-31T00:46:18.397678",
      "version": "2.1.0"
    },
    "colab": {
      "provenance": [],
      "include_colab_link": true
    }
  },
  "nbformat": 4,
  "nbformat_minor": 0
}